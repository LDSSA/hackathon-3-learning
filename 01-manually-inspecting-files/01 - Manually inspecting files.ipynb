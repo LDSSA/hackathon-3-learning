{
 "cells": [
  {
   "cell_type": "markdown",
   "metadata": {},
   "source": [
    "# Look at the raw data with your own eyes\n",
    "\n",
    "Many times when you are given a dataset, you have NO IDEA what the heck might be\n",
    "in it based upon the name of the file. If you don't know what is in it and\n",
    "the file extension is wrong, how can you know what program or pandas methond\n",
    "you should use to open it?\n",
    "\n",
    "The answer is pretty simple: *look at the contents of it*"
   ]
  },
  {
   "cell_type": "markdown",
   "metadata": {},
   "source": [
    "## Let's take a look at a small csv"
   ]
  },
  {
   "cell_type": "code",
   "execution_count": 11,
   "metadata": {},
   "outputs": [
    {
     "data": {
      "text/html": [
       "<div>\n",
       "<style>\n",
       "    .dataframe thead tr:only-child th {\n",
       "        text-align: right;\n",
       "    }\n",
       "\n",
       "    .dataframe thead th {\n",
       "        text-align: left;\n",
       "    }\n",
       "\n",
       "    .dataframe tbody tr th {\n",
       "        vertical-align: top;\n",
       "    }\n",
       "</style>\n",
       "<table border=\"1\" class=\"dataframe\">\n",
       "  <thead>\n",
       "    <tr style=\"text-align: right;\">\n",
       "      <th></th>\n",
       "      <th>hello</th>\n",
       "      <th>world</th>\n",
       "    </tr>\n",
       "  </thead>\n",
       "  <tbody>\n",
       "    <tr>\n",
       "      <th>0</th>\n",
       "      <td>1</td>\n",
       "      <td>4</td>\n",
       "    </tr>\n",
       "    <tr>\n",
       "      <th>1</th>\n",
       "      <td>2</td>\n",
       "      <td>5</td>\n",
       "    </tr>\n",
       "    <tr>\n",
       "      <th>2</th>\n",
       "      <td>3</td>\n",
       "      <td>6</td>\n",
       "    </tr>\n",
       "  </tbody>\n",
       "</table>\n",
       "</div>"
      ],
      "text/plain": [
       "   hello  world\n",
       "0      1      4\n",
       "1      2      5\n",
       "2      3      6"
      ]
     },
     "execution_count": 11,
     "metadata": {},
     "output_type": "execute_result"
    }
   ],
   "source": [
    "# imports first (taking my own advice this time!)\n",
    "import json\n",
    "import pandas as pd\n",
    "\n",
    "# first generate the csv, so that we know what went into it\n",
    "df = pd.DataFrame({'hello': [1, 2, 3], 'world': [4, 5, 6]})\n",
    "df"
   ]
  },
  {
   "cell_type": "code",
   "execution_count": 8,
   "metadata": {
    "collapsed": true
   },
   "outputs": [],
   "source": [
    "df.to_csv('small.csv', index=False)"
   ]
  },
  {
   "cell_type": "markdown",
   "metadata": {},
   "source": [
    "## Great, we have a small 3-row csv written to disk that we can manually inspected\n",
    "\n",
    "When it comes to manually inspecting data, the tools you prefer to use the most\n",
    "may very well depend on the operating system and development environment you are\n",
    "used to using.\n",
    "\n",
    "If you are on windows, you may want to open it in notepad.\n",
    "\n",
    "If you are on OS X, you may want to open it in text edit.\n",
    "\n",
    "If you are on linux, you might prefer sublime.\n",
    "\n",
    "There is no right answer, but you must be able to open the file\n",
    "to take a look at it.\n",
    "\n",
    "If you are on a *nix machine (linux, unix, os x, etc.) there are a lot of handy\n",
    "command line tools that you can use. For small files, I like to use `cat`"
   ]
  },
  {
   "cell_type": "code",
   "execution_count": 9,
   "metadata": {},
   "outputs": [
    {
     "name": "stdout",
     "output_type": "stream",
     "text": [
      "hello,world\r\n",
      "1,4\r\n",
      "2,5\r\n",
      "3,6\r\n"
     ]
    }
   ],
   "source": [
    "! cat small.csv"
   ]
  },
  {
   "cell_type": "markdown",
   "metadata": {},
   "source": [
    "## Those are the entire contents of the file, just for you to see!\n",
    "\n",
    "Remember, you can do this by opening the file in your favorite text editor.\n",
    "I'm just using the commands to keep everything in the notebook.\n",
    "\n",
    "So when is this actually handy? Say somebody did something stupid like the following:"
   ]
  },
  {
   "cell_type": "code",
   "execution_count": 29,
   "metadata": {},
   "outputs": [],
   "source": [
    "df.to_csv('tricksie.csv', sep='#', index=None)"
   ]
  },
  {
   "cell_type": "markdown",
   "metadata": {},
   "source": [
    "which would then cause you to want to do something like this:"
   ]
  },
  {
   "cell_type": "code",
   "execution_count": 30,
   "metadata": {},
   "outputs": [
    {
     "data": {
      "text/html": [
       "<div>\n",
       "<style>\n",
       "    .dataframe thead tr:only-child th {\n",
       "        text-align: right;\n",
       "    }\n",
       "\n",
       "    .dataframe thead th {\n",
       "        text-align: left;\n",
       "    }\n",
       "\n",
       "    .dataframe tbody tr th {\n",
       "        vertical-align: top;\n",
       "    }\n",
       "</style>\n",
       "<table border=\"1\" class=\"dataframe\">\n",
       "  <thead>\n",
       "    <tr style=\"text-align: right;\">\n",
       "      <th></th>\n",
       "      <th>hello#world</th>\n",
       "    </tr>\n",
       "  </thead>\n",
       "  <tbody>\n",
       "    <tr>\n",
       "      <th>0</th>\n",
       "      <td>1#4</td>\n",
       "    </tr>\n",
       "    <tr>\n",
       "      <th>1</th>\n",
       "      <td>2#5</td>\n",
       "    </tr>\n",
       "    <tr>\n",
       "      <th>2</th>\n",
       "      <td>3#6</td>\n",
       "    </tr>\n",
       "  </tbody>\n",
       "</table>\n",
       "</div>"
      ],
      "text/plain": [
       "  hello#world\n",
       "0         1#4\n",
       "1         2#5\n",
       "2         3#6"
      ]
     },
     "execution_count": 30,
     "metadata": {},
     "output_type": "execute_result"
    }
   ],
   "source": [
    "pd.read_csv('tricksie.csv')"
   ]
  },
  {
   "cell_type": "markdown",
   "metadata": {},
   "source": [
    "What the hell is that??? Why would anyone do something like this?\n",
    "\n",
    "Although you might be able to guess what is going on from the mangled\n",
    "dataframe that we have ended up with, you might want to check just\n",
    "to make sure."
   ]
  },
  {
   "cell_type": "code",
   "execution_count": 31,
   "metadata": {},
   "outputs": [
    {
     "name": "stdout",
     "output_type": "stream",
     "text": [
      "hello#world\r\n",
      "1#4\r\n",
      "2#5\r\n",
      "3#6\r\n"
     ]
    }
   ],
   "source": [
    "! cat tricksie.csv"
   ]
  },
  {
   "cell_type": "markdown",
   "metadata": {},
   "source": [
    "Great, now that I can see the file, I can kind of tell that\n",
    "something strange is acting as a separator which gives us a clue that\n",
    "we need to use the sep option of read_csv "
   ]
  },
  {
   "cell_type": "code",
   "execution_count": 32,
   "metadata": {},
   "outputs": [
    {
     "data": {
      "text/html": [
       "<div>\n",
       "<style>\n",
       "    .dataframe thead tr:only-child th {\n",
       "        text-align: right;\n",
       "    }\n",
       "\n",
       "    .dataframe thead th {\n",
       "        text-align: left;\n",
       "    }\n",
       "\n",
       "    .dataframe tbody tr th {\n",
       "        vertical-align: top;\n",
       "    }\n",
       "</style>\n",
       "<table border=\"1\" class=\"dataframe\">\n",
       "  <thead>\n",
       "    <tr style=\"text-align: right;\">\n",
       "      <th></th>\n",
       "      <th>hello</th>\n",
       "      <th>world</th>\n",
       "    </tr>\n",
       "  </thead>\n",
       "  <tbody>\n",
       "    <tr>\n",
       "      <th>0</th>\n",
       "      <td>1</td>\n",
       "      <td>4</td>\n",
       "    </tr>\n",
       "    <tr>\n",
       "      <th>1</th>\n",
       "      <td>2</td>\n",
       "      <td>5</td>\n",
       "    </tr>\n",
       "    <tr>\n",
       "      <th>2</th>\n",
       "      <td>3</td>\n",
       "      <td>6</td>\n",
       "    </tr>\n",
       "  </tbody>\n",
       "</table>\n",
       "</div>"
      ],
      "text/plain": [
       "   hello  world\n",
       "0      1      4\n",
       "1      2      5\n",
       "2      3      6"
      ]
     },
     "execution_count": 32,
     "metadata": {},
     "output_type": "execute_result"
    }
   ],
   "source": [
    "pd.read_csv('tricksie.csv', sep='#')"
   ]
  },
  {
   "cell_type": "markdown",
   "metadata": {},
   "source": [
    "Well that makes us feel slightly better... now you can continue\n",
    "on with your work for now and later on track down the person\n",
    "that created a csv with `#` as a separator and have a very nice\n",
    "and poite chat with them ;)"
   ]
  },
  {
   "cell_type": "markdown",
   "metadata": {},
   "source": [
    "## So what if the file is too big to look at the whole thing?\n",
    "\n",
    "Then you'll need to look at some subset of it. Typically the first few lines are a good bet.\n",
    "\n",
    "Let's generate a dataset that's a bit too large to open up using a text\n",
    "editor or something like that."
   ]
  },
  {
   "cell_type": "code",
   "execution_count": 38,
   "metadata": {},
   "outputs": [],
   "source": [
    "nlines = 5000000\n",
    "\n",
    "with open('big.csv', 'wb') as fh:\n",
    "    fh.write('col1,col2,col2\\n'.encode())\n",
    "    for i in range(0, nlines):\n",
    "        s = '1,2,3'\n",
    "        if i != nlines - 1:\n",
    "            s += '\\n'\n",
    "        fh.write(s.encode())"
   ]
  },
  {
   "cell_type": "code",
   "execution_count": 39,
   "metadata": {},
   "outputs": [
    {
     "name": "stdout",
     "output_type": "stream",
     "text": [
      "5000000 big.csv\r\n"
     ]
    }
   ],
   "source": [
    "# use the wc command to count the number of lines in the file\n",
    "! wc -l big.csv"
   ]
  },
  {
   "cell_type": "markdown",
   "metadata": {},
   "source": [
    "Alright, you now have a csv with 5 million lines.\n",
    "Best of luck opening that all at once!\n",
    "\n",
    "Luckily there's a few ways to deal with this. If you're on a \n",
    "\\*nix platform, you can use the head() command:"
   ]
  },
  {
   "cell_type": "code",
   "execution_count": 41,
   "metadata": {},
   "outputs": [
    {
     "name": "stdout",
     "output_type": "stream",
     "text": [
      "col1,col2,col2\r\n",
      "1,2,3\r\n",
      "1,2,3\r\n",
      "1,2,3\r\n",
      "1,2,3\r\n",
      "1,2,3\r\n",
      "1,2,3\r\n",
      "1,2,3\r\n",
      "1,2,3\r\n",
      "1,2,3\r\n"
     ]
    }
   ],
   "source": [
    "# print out the first 10 lines\n",
    "! head -n 10 big.csv"
   ]
  },
  {
   "cell_type": "markdown",
   "metadata": {},
   "source": [
    "If you want to do this in a more cross-platform manor, you could\n",
    "use the following function that should work with most versions\n",
    "of python and work on all operating systems:"
   ]
  },
  {
   "cell_type": "code",
   "execution_count": 49,
   "metadata": {
    "collapsed": true
   },
   "outputs": [],
   "source": [
    "def head(filename, n=10):\n",
    "    with open(filename) as fh:\n",
    "        # get a python list of the first n lines\n",
    "        list_of_lines = [fh.readline() for i in range(n)]\n",
    "        # now concatinate them into a string so\n",
    "        # the print statement looks okay\n",
    "        lines_to_print = ''.join(list_of_lines)\n",
    "        # finally, print it out\n",
    "        print(lines_to_print)"
   ]
  },
  {
   "cell_type": "code",
   "execution_count": 50,
   "metadata": {},
   "outputs": [
    {
     "name": "stdout",
     "output_type": "stream",
     "text": [
      "col1,col2,col2\n",
      "1,2,3\n",
      "1,2,3\n",
      "1,2,3\n",
      "1,2,3\n",
      "1,2,3\n",
      "1,2,3\n",
      "1,2,3\n",
      "1,2,3\n",
      "1,2,3\n",
      "\n"
     ]
    }
   ],
   "source": [
    "head('big.csv')"
   ]
  },
  {
   "cell_type": "markdown",
   "metadata": {},
   "source": [
    "There you go! Now you can look at the first n lines of a file\n",
    "that is arbitrarily large without crashing your machine!"
   ]
  },
  {
   "cell_type": "code",
   "execution_count": null,
   "metadata": {
    "collapsed": true
   },
   "outputs": [],
   "source": []
  }
 ],
 "metadata": {
  "kernelspec": {
   "display_name": "Python 3",
   "language": "python",
   "name": "python3"
  },
  "language_info": {
   "codemirror_mode": {
    "name": "ipython",
    "version": 3
   },
   "file_extension": ".py",
   "mimetype": "text/x-python",
   "name": "python",
   "nbconvert_exporter": "python",
   "pygments_lexer": "ipython3",
   "version": "3.6.2"
  }
 },
 "nbformat": 4,
 "nbformat_minor": 2
}
